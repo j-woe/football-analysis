{
 "cells": [
  {
   "cell_type": "markdown",
   "metadata": {},
   "source": [
    "# **Football Data Analysis: Pass / Shot Analysis & xGoals Modeling**"
   ]
  },
  {
   "cell_type": "markdown",
   "metadata": {},
   "source": [
    "*Notebook summary*:\n",
    "- **Feature Engineering**: Calculation of events' distances and angles\n",
    "- **Pass Analysis**: Identification of elite passers based on accuracy, forward rate and final third penetration\n",
    "- **Shot Analysis**: Deep dive into how distance, angle and body part affect goal probability\n",
    "- **xGoals Model**: \n",
    "    - Logistic regression to predict shot outcomes\n",
    "    - Application of the model on the Bundesliga to calculate an \"expected\" Bundesliga table based on the predicted goal-probability\n",
    "\n",
    "*Possible extensions*:\n",
    "- Comparison of xGoals and actual goals per player\n",
    "- Deduction of expected goal-assists\n",
    "- Evaluation of xConcededGoals per goalkeeper\n",
    "- Comparison of pre- and post-shot xGoals-model (i.e. with / without considering where the shots were aimed) "
   ]
  },
  {
   "cell_type": "markdown",
   "metadata": {},
   "source": [
    "## **Import of libraries and data**"
   ]
  },
  {
   "cell_type": "code",
   "execution_count": null,
   "metadata": {},
   "outputs": [],
   "source": [
    "# Standard libraries imports\n",
    "from itertools import chain\n",
    "import json\n",
    "import math\n",
    "\n",
    "# Data manipulation and analysis\n",
    "import numpy as np\n",
    "import pandas as pd\n",
    "\n",
    "# Visualization\n",
    "import matplotlib.pyplot as plt\n",
    "from matplotlib.ticker import PercentFormatter\n",
    "import seaborn as sns\n",
    "\n",
    "# Machine learning\n",
    "from sklearn.compose import ColumnTransformer\n",
    "from sklearn.linear_model import LogisticRegression\n",
    "from sklearn.metrics import confusion_matrix, f1_score\n",
    "from sklearn.model_selection import GridSearchCV\n",
    "from sklearn.preprocessing import OneHotEncoder\n",
    "\n",
    "# Assets, constants, utils and visualizations from custom modules\n",
    "import config as co\n",
    "import utils as ut\n",
    "import visualizations as vis"
   ]
  },
  {
   "cell_type": "code",
   "execution_count": null,
   "metadata": {},
   "outputs": [],
   "source": [
    "dfs_events = {}\n",
    "dfs_matches = {}\n",
    "events = {}\n",
    "matches = {}\n",
    "\n",
    "competitions = [\n",
    "    'england', 'european_championship', 'france',\n",
    "    'germany', 'italy', 'spain', 'world_cup'\n",
    "]\n",
    "\n",
    "for competition in competitions:\n",
    "    with open(\n",
    "        f'data/events/events_{competition}.json',\n",
    "        encoding='utf-8'\n",
    "    ) as json_file:\n",
    "        events[competition] = json.load(json_file)\n",
    "        dfs_events[competition] = pd.DataFrame(events[competition])\n",
    "        dfs_events[competition]['competition'] = competition\n",
    "        print(\n",
    "            f'{competition}: '\n",
    "            f'{dfs_events[competition].shape[0]} events loaded.'\n",
    "        )\n",
    "\n",
    "    with open(\n",
    "        f'data/matches/matches_{competition}.json',\n",
    "        encoding='utf-8'\n",
    "    ) as json_file:\n",
    "        matches[competition] = json.load(json_file)\n",
    "        dfs_matches[competition] = pd.DataFrame(matches[competition])\n",
    "        dfs_matches[competition]['competition'] = competition\n",
    "        print(\n",
    "            f'{competition}: '\n",
    "            f'{dfs_matches[competition].shape[0]} matches loaded.'\n",
    "        )\n",
    "\n",
    "df_events = pd.concat(\n",
    "    [pd.DataFrame(dfs_events[competition]) for competition in competitions]\n",
    ").reset_index()\n",
    "\n",
    "df_matches = pd.concat(\n",
    "    [pd.DataFrame(dfs_matches[competition]) for competition in competitions]\n",
    ")\n",
    "df_matches.set_index('wyId', inplace=True)"
   ]
  },
  {
   "cell_type": "code",
   "execution_count": null,
   "metadata": {},
   "outputs": [],
   "source": [
    "df_tag_labels = pd.read_csv('data/mappings/tags2name.csv')\n",
    "df_tag_labels.set_index('Tag', inplace=True)\n",
    "df_event_labels = pd.read_csv('data/mappings/eventid2name.csv')"
   ]
  },
  {
   "cell_type": "code",
   "execution_count": null,
   "metadata": {},
   "outputs": [],
   "source": [
    "with open('data/players.json', encoding='utf-8') as json_file:\n",
    "    players = json.load(json_file)\n",
    "\n",
    "df_players = pd.json_normalize(players)\n",
    "df_players.set_index('wyId', inplace=True)"
   ]
  },
  {
   "cell_type": "code",
   "execution_count": null,
   "metadata": {},
   "outputs": [],
   "source": [
    "with open('data/teams.json', encoding='utf-8') as json_file:\n",
    "    teams_raw = json_file.read().encode().decode('unicode_escape')\n",
    "    teams = json.loads(teams_raw)\n",
    "\n",
    "df_teams = pd.DataFrame(teams)\n",
    "df_teams.set_index('wyId', inplace=True)"
   ]
  },
  {
   "cell_type": "markdown",
   "metadata": {},
   "source": [
    "## **Basic Cleaning and processing**"
   ]
  },
  {
   "cell_type": "markdown",
   "metadata": {},
   "source": [
    "Some events' playerId is missig and therefore cannot be matched with a player from the database. Let's drop those entries."
   ]
  },
  {
   "cell_type": "code",
   "execution_count": null,
   "metadata": {},
   "outputs": [],
   "source": [
    "missing_player_id = df_events[df_events['playerId'] == 0].index\n",
    "df_events.drop(missing_player_id, inplace=True)\n",
    "print(\n",
    "    f'{len(missing_player_id)} events with unrecorded playerId removed.'\n",
    ")"
   ]
  },
  {
   "cell_type": "markdown",
   "metadata": {},
   "source": [
    "We can simplify the 'tags'-column by flattening and unpacking the dictionaries to a list."
   ]
  },
  {
   "cell_type": "code",
   "execution_count": null,
   "metadata": {},
   "outputs": [],
   "source": [
    "df_events['tags'] = df_events['tags'].apply(\n",
    "    lambda x: list(chain.from_iterable(d.values() for d in x))\n",
    ")"
   ]
  },
  {
   "cell_type": "markdown",
   "metadata": {},
   "source": [
    "The 'positions'-column can be split up for easier access."
   ]
  },
  {
   "cell_type": "code",
   "execution_count": null,
   "metadata": {},
   "outputs": [],
   "source": [
    "df_events['xPosStart'] = df_events['positions'].apply(\n",
    "    lambda x: x[0]['x']\n",
    ")\n",
    "\n",
    "df_events['yPosStart'] = df_events['positions'].apply(\n",
    "    lambda x: x[0]['y']\n",
    ")\n",
    "\n",
    "df_events['xPosEnd'] = df_events['positions'].apply(\n",
    "    lambda x: x[1]['x'] if len(x) == 2 else x[0]['x']\n",
    ")\n",
    "\n",
    "df_events['yPosEnd'] = df_events['positions'].apply(\n",
    "    lambda x: x[1]['y'] if len(x) == 2 else x[0]['y']\n",
    ")\n",
    "\n",
    "df_events.drop(\n",
    "    columns=['positions'],\n",
    "    inplace=True\n",
    ")"
   ]
  },
  {
   "cell_type": "markdown",
   "metadata": {},
   "source": [
    "## **Feature engineering** - Calculating distances"
   ]
  },
  {
   "cell_type": "markdown",
   "metadata": {},
   "source": [
    "We can now calculate distance between start- and end-position."
   ]
  },
  {
   "cell_type": "code",
   "execution_count": null,
   "metadata": {},
   "outputs": [],
   "source": [
    "df_events['distance'] = df_events.apply(\n",
    "    lambda row: np.linalg.norm(\n",
    "        (\n",
    "            (row['xPosEnd'] - row['xPosStart']) * co.PITCH_LENGTH / 100,\n",
    "            (row['yPosEnd'] - row['yPosStart']) * co.PITCH_WIDTH / 100\n",
    "        )\n",
    "    ),\n",
    "    axis=1\n",
    ")"
   ]
  },
  {
   "cell_type": "markdown",
   "metadata": {},
   "source": [
    "Some of the recorded events have a distance of 0m. Let's drop them, as they would cause problems when calculating passing-angles."
   ]
  },
  {
   "cell_type": "code",
   "execution_count": null,
   "metadata": {},
   "outputs": [],
   "source": [
    "events_with_zero_distance = df_events[df_events['distance'] == 0].index\n",
    "df_events.drop(events_with_zero_distance, inplace=True)\n",
    "\n",
    "print(\n",
    "    f'{len(events_with_zero_distance)} events with zero distance removed.'\n",
    ")"
   ]
  },
  {
   "cell_type": "markdown",
   "metadata": {},
   "source": [
    "With some helper-functions we can calulate the shortest distance to the goal before and after the event."
   ]
  },
  {
   "cell_type": "code",
   "execution_count": null,
   "metadata": {},
   "outputs": [],
   "source": [
    "def y_closest_goal(y: float) -> float:\n",
    "    if y < co.Y_LEFT_POST:\n",
    "        y_closest = co.Y_LEFT_POST\n",
    "    elif y > co.Y_RIGHT_POST:\n",
    "        y_closest = co.Y_RIGHT_POST\n",
    "    else:\n",
    "        y_closest = y\n",
    "    return y_closest\n",
    "\n",
    "def distance_to_goal(x: float, y: float) -> float:\n",
    "    vector_to_goal = (\n",
    "        (100 - x) * co.PITCH_LENGTH / 100,\n",
    "        (y_closest_goal(y) - y) * co.PITCH_WIDTH / 100\n",
    "    )\n",
    "    return np.linalg.norm(vector_to_goal)"
   ]
  },
  {
   "cell_type": "code",
   "execution_count": null,
   "metadata": {},
   "outputs": [],
   "source": [
    "df_events['goalDistanceStart'] = df_events.apply(\n",
    "    lambda row: distance_to_goal(row['xPosStart'], row['yPosStart']),\n",
    "    axis=1\n",
    ")\n",
    "\n",
    "df_events['goalDistanceEnd'] = df_events.apply(\n",
    "    lambda row: distance_to_goal(row['xPosEnd'], row['yPosEnd']),\n",
    "    axis=1\n",
    ")\n",
    "\n",
    "df_events['goalDistanceCovered'] = (\n",
    "    df_events['goalDistanceEnd'] - df_events['goalDistanceStart']\n",
    ")"
   ]
  },
  {
   "cell_type": "markdown",
   "metadata": {},
   "source": [
    "Let's tag events that started outside and ended inside the final third. This will be an interesting feature when analysing passes later."
   ]
  },
  {
   "cell_type": "code",
   "execution_count": null,
   "metadata": {},
   "outputs": [],
   "source": [
    "df_events['intoFinalThird'] = (\n",
    "    (df_events['xPosStart'] < 66.67) &\n",
    "    (df_events['xPosEnd'] >= 66.67)\n",
    ")"
   ]
  },
  {
   "cell_type": "markdown",
   "metadata": {},
   "source": [
    "##  **Feature engineering** - Calculating Angles"
   ]
  },
  {
   "cell_type": "markdown",
   "metadata": {},
   "source": [
    "The events' angles can be calculated by their start- and end-positions. This will be an important feature for the pass-analysis as well."
   ]
  },
  {
   "cell_type": "code",
   "execution_count": null,
   "metadata": {},
   "outputs": [],
   "source": [
    "def angle(u: tuple, v: tuple) -> float:\n",
    "    dot_prod = np.dot(u, v)\n",
    "    u_norm = np.linalg.norm(u)\n",
    "    v_norm = np.linalg.norm(v)\n",
    "    return math.degrees(\n",
    "        math.acos(dot_prod / (u_norm * v_norm))\n",
    "    )"
   ]
  },
  {
   "cell_type": "code",
   "execution_count": null,
   "metadata": {},
   "outputs": [],
   "source": [
    "df_events['angle'] = df_events.apply(\n",
    "    lambda row: angle(\n",
    "        (\n",
    "            (row['xPosEnd'] - row['xPosStart']) * co.PITCH_LENGTH / 100,\n",
    "            (row['yPosEnd'] - row['yPosStart']) * co.PITCH_WIDTH / 100\n",
    "        ),\n",
    "        (1, 0)\n",
    "    ),\n",
    "    axis=1\n",
    ")"
   ]
  },
  {
   "cell_type": "markdown",
   "metadata": {},
   "source": [
    "We can group together the angles into different categories."
   ]
  },
  {
   "cell_type": "code",
   "execution_count": null,
   "metadata": {},
   "outputs": [],
   "source": [
    "bins = [0, 22.5, 67.5, 112.5, 157.5, 180]\n",
    "\n",
    "labels = [\n",
    "    'vertical forward',\n",
    "    'diagonal forward',\n",
    "    'horizontal',\n",
    "    'diagonal backward',\n",
    "    'vertical backward'\n",
    "]\n",
    "\n",
    "df_events['angleCategory'] = pd.cut(\n",
    "    df_events['angle'],\n",
    "    bins=bins,\n",
    "    labels=labels,\n",
    "    include_lowest=True,\n",
    "    ordered=False\n",
    ")"
   ]
  },
  {
   "cell_type": "markdown",
   "metadata": {},
   "source": [
    "We can also get each event's angle to the goal before and after the event by calculating the angle of the vector from the event's position to the closest point of the goal. This will be an important feature when inspecting shots."
   ]
  },
  {
   "cell_type": "code",
   "execution_count": null,
   "metadata": {},
   "outputs": [],
   "source": [
    "def angle_to_goal(x: float, y: float) -> float:\n",
    "    vector_to_goal = (\n",
    "        (100 - x) * co.PITCH_LENGTH / 100,\n",
    "        (y_closest_goal(y) - y) * co.PITCH_WIDTH / 100\n",
    "    )\n",
    "    return angle(\n",
    "        vector_to_goal,\n",
    "        (1, 0)\n",
    "    ) if not vector_to_goal == (0, 0) else 0"
   ]
  },
  {
   "cell_type": "code",
   "execution_count": null,
   "metadata": {},
   "outputs": [],
   "source": [
    "df_events['goalAngleStart'] = df_events.apply(\n",
    "    lambda row: angle_to_goal(row['xPosStart'], row['yPosStart']),\n",
    "    axis=1\n",
    ")\n",
    "\n",
    "df_events['goalAngleEnd'] = df_events.apply(\n",
    "    lambda row: angle_to_goal(row['xPosEnd'], row['yPosEnd']),\n",
    "    axis=1\n",
    ")"
   ]
  },
  {
   "cell_type": "markdown",
   "metadata": {},
   "source": [
    "As an alternative approach of defining a positions angle to the goal, we define a position's 'shot-window' as the angle between the vectors from the event's position to each of the posts."
   ]
  },
  {
   "cell_type": "code",
   "execution_count": null,
   "metadata": {},
   "outputs": [],
   "source": [
    "def shot_window(x: float, y: float) -> float:\n",
    "    left = (\n",
    "        (100 - x) * co.PITCH_LENGTH / 100,\n",
    "        (co.Y_LEFT_POST - y) * co.PITCH_WIDTH / 100\n",
    "    )\n",
    "\n",
    "    right = (\n",
    "        (100 - x) * co.PITCH_LENGTH / 100,\n",
    "        (co.Y_RIGHT_POST - y) * co.PITCH_WIDTH / 100\n",
    "    )\n",
    "\n",
    "    return angle(left, right)"
   ]
  },
  {
   "cell_type": "code",
   "execution_count": null,
   "metadata": {},
   "outputs": [],
   "source": [
    "df_events['shotWindow'] = df_events.apply(\n",
    "    lambda row: shot_window(row['xPosStart'], row['yPosStart']),\n",
    "    axis=1\n",
    ")"
   ]
  },
  {
   "cell_type": "markdown",
   "metadata": {},
   "source": [
    "##  **Feature engineering** - Processing Tags"
   ]
  },
  {
   "cell_type": "markdown",
   "metadata": {},
   "source": [
    "If applicable, we can extract the information with which bodypart the event was carried out and if it was the strong/weak foot by checking the player-data."
   ]
  },
  {
   "cell_type": "code",
   "execution_count": null,
   "metadata": {},
   "outputs": [],
   "source": [
    "def label_bodyPart(tags: list, strong_foot: str) -> str:\n",
    "    relevant_tags = [401, 402, 403]\n",
    "    filtered_tags = list(set(tags) & set(relevant_tags))\n",
    "    if len(filtered_tags) > 0:\n",
    "        bodyPart = df_tag_labels.loc[filtered_tags[0], 'Label'].lower()\n",
    "        if bodyPart == 'head/body':\n",
    "            label = bodyPart\n",
    "        elif bodyPart == strong_foot:\n",
    "            label = 'strong foot'\n",
    "        else:\n",
    "            label = 'weak foot'\n",
    "    else:\n",
    "        label = 'unknown'\n",
    "    return label"
   ]
  },
  {
   "cell_type": "code",
   "execution_count": null,
   "metadata": {},
   "outputs": [],
   "source": [
    "df_events['bodyPart'] = df_events.apply(\n",
    "    lambda row: label_bodyPart(\n",
    "        row['tags'],\n",
    "        df_players.loc[row['playerId'], 'foot']\n",
    "    ),\n",
    "    axis=1\n",
    ")"
   ]
  },
  {
   "cell_type": "markdown",
   "metadata": {},
   "source": [
    "For each event we extract the role the player plays in (goalkeeper, defender, midfielder or forward)."
   ]
  },
  {
   "cell_type": "code",
   "execution_count": null,
   "metadata": {},
   "outputs": [],
   "source": [
    "df_events['playerRole'] = df_events.apply(\n",
    "    lambda row: df_players.loc[row['playerId'], 'role.code3'],\n",
    "    axis=1\n",
    ")"
   ]
  },
  {
   "cell_type": "markdown",
   "metadata": {},
   "source": [
    "For shot-events, we can extract information about which part of the goal the shot was aimed at from the tags."
   ]
  },
  {
   "cell_type": "code",
   "execution_count": null,
   "metadata": {},
   "outputs": [],
   "source": [
    "def label_tags(tags: list, relevant_tags: list) -> str:\n",
    "    filtered_tags = list(set(tags) & set(relevant_tags))\n",
    "    if len(filtered_tags) > 0:\n",
    "        label = df_tag_labels.loc[filtered_tags[0], 'Label'].lower()\n",
    "    else:\n",
    "        label = 'unknown'\n",
    "    return label"
   ]
  },
  {
   "cell_type": "code",
   "execution_count": null,
   "metadata": {},
   "outputs": [],
   "source": [
    "df_events['aimedGoalPart'] = df_events['tags'].apply(\n",
    "    lambda x: label_tags(x, list(range(1201, 1224)))\n",
    ")"
   ]
  },
  {
   "cell_type": "markdown",
   "metadata": {},
   "source": [
    "Using the tag-mapping, we can create some more tag-flags."
   ]
  },
  {
   "cell_type": "code",
   "execution_count": null,
   "metadata": {},
   "outputs": [],
   "source": [
    "tag_mappings = {\n",
    "    'keyPass': 302,\n",
    "    'dangerousBallLost': 2001,\n",
    "    'opportunity': 201,\n",
    "    'counterAttack': 1901,\n",
    "    'through': 901,\n",
    "    'high': 801\n",
    "}\n",
    "\n",
    "for col, tag_id in tag_mappings.items():\n",
    "    df_events[col] = df_events['tags'].apply(\n",
    "        lambda x: tag_id in x\n",
    "    )\n",
    "\n",
    "df_events['accurate'] = df_events['tags'].apply(\n",
    "    lambda x: True if 1801 in x else False if 1802 in x else None\n",
    ")\n",
    "\n",
    "df_events['goal'] = df_events['tags'].apply(\n",
    "    lambda x: 101 in x or 102 in x\n",
    ")"
   ]
  },
  {
   "cell_type": "markdown",
   "metadata": {},
   "source": [
    "We finish the feature-engineering part by providing some information about the previous event. It might be interesting for shot-analysis later on to see the effect of the type of the preceding event (e.g. high/low pass or dribble) on the shot's outcome.  \n",
    "For simplicity we just shift the columns of interest by one and disregard the edge cases (each match-half's first and last event), as they are not interesting for our purpose."
   ]
  },
  {
   "cell_type": "code",
   "execution_count": null,
   "metadata": {},
   "outputs": [],
   "source": [
    "cols_shift = [\n",
    "    'eventName', 'distance', 'angle', 'angleCategory',\n",
    "    'dangerousBallLost', 'keyPass', 'through', 'high'\n",
    "]\n",
    "\n",
    "df_events[\n",
    "    [f'prev{col[0].capitalize()}{col[1:]}' for col in cols_shift]\n",
    "] = df_events[cols_shift].shift(1)"
   ]
  },
  {
   "cell_type": "markdown",
   "metadata": {},
   "source": [
    "## **Pass analysis** - Comparison of passing-profiles"
   ]
  },
  {
   "cell_type": "markdown",
   "metadata": {},
   "source": [
    "Let's compare all the players' passing-skills based on 3 features: average passing-accuracy, forward rate and share of passes into the final third."
   ]
  },
  {
   "cell_type": "code",
   "execution_count": null,
   "metadata": {},
   "outputs": [],
   "source": [
    "pass_stats = df_events[\n",
    "    df_events['eventName'] == 'Pass'\n",
    "].groupby('playerId').agg({\n",
    "    'id': 'count',\n",
    "    'accurate': 'mean',\n",
    "    'angleCategory': lambda x: (\n",
    "        (x == 'diagonal forward') |\n",
    "        (x == 'vertical forward')\n",
    "    ).mean(),\n",
    "    'intoFinalThird': 'mean'\n",
    "}).rename(\n",
    "    columns={\n",
    "        'accurate': 'passingAccuracy',\n",
    "        'angleCategory': 'forwardRate',\n",
    "        'id': 'passCount'\n",
    "    }\n",
    ")\n",
    "overlap_cols = set(df_players.columns) & set(pass_stats.columns)\n",
    "df_players = df_players.drop(columns=overlap_cols)\n",
    "df_players = df_players.join(\n",
    "    pass_stats,\n",
    "    how='left'\n",
    ")"
   ]
  },
  {
   "cell_type": "code",
   "execution_count": null,
   "metadata": {},
   "outputs": [],
   "source": [
    "relevant_passers = df_players[df_players['passCount'] >= 250]\n",
    "sns.scatterplot(\n",
    "    data=relevant_passers,\n",
    "    x='passingAccuracy',\n",
    "    y='forwardRate',\n",
    "    hue='role.code2',\n",
    "    s=20,\n",
    "    edgecolor='black',\n",
    "    linewidth=0.5\n",
    ")\n",
    "sns.despine(right=True, top=True)\n",
    "plt.title(\n",
    "    'Player\\'s passing-accuracy and forward-rate'\n",
    ")\n",
    "plt.xlabel('passing accuracy')\n",
    "plt.ylabel('forward rate')\n",
    "plt.legend(title='Position')\n",
    "plt.gca().xaxis.set_major_formatter(PercentFormatter(1))\n",
    "plt.gca().yaxis.set_major_formatter(PercentFormatter(1))"
   ]
  },
  {
   "cell_type": "markdown",
   "metadata": {},
   "source": [
    "As we can see, the passing-profile highly depends on the player's position: The average passing-accuracy and forward-rate decreases with the player's position being more forward on the pitch, as there is more direct pressure from opponents and less opportunities to find a forward-pass."
   ]
  },
  {
   "cell_type": "code",
   "execution_count": null,
   "metadata": {},
   "outputs": [],
   "source": [
    "top_tier_passers = df_players[\n",
    "    (df_players['passCount'] >= 1000) &\n",
    "    (df_players['role.code2'] != 'GK') &\n",
    "    (df_players['passingAccuracy'] >= 0.9) &\n",
    "    (df_players['forwardRate'] >= 0.5)\n",
    "]\n",
    "print(top_tier_passers['role.code2'].value_counts())"
   ]
  },
  {
   "cell_type": "markdown",
   "metadata": {},
   "source": [
    "Unsurprisingly, the top-tier passers (excluding goalkeepers) are predominantly defenders.\n",
    "\n",
    "Next, we examine the top-tier passers in greater detail, focusing on field players with both high passing accuracy and forward rate. Within this elite group, we identify the top performers for each passing metric."
   ]
  },
  {
   "cell_type": "code",
   "execution_count": null,
   "metadata": {},
   "outputs": [],
   "source": [
    "sns.scatterplot(\n",
    "    data=top_tier_passers,\n",
    "    x='passingAccuracy',\n",
    "    y='forwardRate',\n",
    "    hue='intoFinalThird',\n",
    "    edgecolor='black',\n",
    "    linewidth=1\n",
    ")\n",
    "for col in ['passingAccuracy', 'forwardRate', 'intoFinalThird']:\n",
    "    player_id = top_tier_passers[col].idxmax()\n",
    "    player_name = df_players.loc[player_id, 'shortName']\n",
    "    player_role = df_players.loc[player_id, 'role.code2']\n",
    "    pass_count = df_players.loc[player_id, 'passCount']\n",
    "    intoFinalThird = df_players.loc[player_id, 'intoFinalThird']\n",
    "    passing_accuracy = df_players.loc[player_id, 'passingAccuracy']\n",
    "    forward_rate = df_players.loc[player_id, 'forwardRate']\n",
    "    annotation_text = (\n",
    "        f'{player_name} ({player_role})\\n'\n",
    "        f'pass count: {int(pass_count)}\\n'\n",
    "        f'passing accuracy: {passing_accuracy * 100:.2f}%\\n'\n",
    "        f'forward rate: {forward_rate * 100:.2f}%\\n'\n",
    "        f'into final third: {intoFinalThird * 100:.2f}%\\n'\n",
    "    )\n",
    "    plt.annotate(\n",
    "        annotation_text,\n",
    "        (passing_accuracy + 0.001, forward_rate + 0.001),\n",
    "        fontsize=8,\n",
    "        va='top',\n",
    "        ha='left'\n",
    "    )\n",
    "sns.despine(right=True, top=True)\n",
    "plt.xlim(0.895, 1)\n",
    "plt.ylim(0.475, 0.675)\n",
    "plt.gca().xaxis.set_major_formatter(PercentFormatter(1))\n",
    "plt.gca().yaxis.set_major_formatter(PercentFormatter(1))\n",
    "plt.title(\n",
    "    'Top passers based on accuracy, forward-rate\\n' +\n",
    "    'and share of passes into the final third'\n",
    ")\n",
    "plt.xlabel('passing accuracy')\n",
    "plt.ylabel('forward rate')\n",
    "handles, labels = plt.gca().get_legend_handles_labels()\n",
    "percent_labels = [f'{float(label)*100:.1f}%'for label in labels]\n",
    "plt.legend(\n",
    "    handles,\n",
    "    percent_labels,\n",
    "    title='share of passes\\ninto final third'\n",
    ")\n",
    "plt.show()"
   ]
  },
  {
   "cell_type": "markdown",
   "metadata": {},
   "source": [
    "Based on the criteria of passing accuracy, forward rate and share of passes into the final third, the three best passers from the top tier are Sergio Ramos, John Stones and Toni Kroos. Notably, Toni Kroos stands out as one of only 4 midfielders in this top-tier category."
   ]
  },
  {
   "cell_type": "markdown",
   "metadata": {},
   "source": [
    "## **Pass analysis** - Elite passers visualizations and statistics"
   ]
  },
  {
   "cell_type": "markdown",
   "metadata": {},
   "source": [
    "To get a better idea of these players' passing-profiles, let's take a look at all of their passes in one of their matches, starting with Sergio Ramos."
   ]
  },
  {
   "cell_type": "code",
   "execution_count": null,
   "metadata": {},
   "outputs": [],
   "source": [
    "vis.plot_passes(\n",
    "    df_events,\n",
    "    df_players,\n",
    "    df_matches,\n",
    "    3306,\n",
    "    2565927,\n",
    "    'angleCategory'\n",
    ")"
   ]
  },
  {
   "cell_type": "markdown",
   "metadata": {},
   "source": [
    "As we can see, Ramos played as a left center-back in that game. Based on his passes, he stayed in his defensive position most of the game, with only a few passes in the opponent's half.\n",
    "\n",
    "Next, we examine Toni Kroos against Celta de Vigo."
   ]
  },
  {
   "cell_type": "code",
   "execution_count": null,
   "metadata": {},
   "outputs": [],
   "source": [
    "vis.plot_passes(\n",
    "    df_events,\n",
    "    df_players,\n",
    "    df_matches,\n",
    "    14723,\n",
    "    2565912,\n",
    "    'angleCategory'\n",
    ")"
   ]
  },
  {
   "cell_type": "markdown",
   "metadata": {},
   "source": [
    "Typical for Toni Kroos, he is all over the pitch, picking up the ball in defense as well as playing from a higher, mostly central position. As we can see, he is distributing the ball very well to both sides with mostly diagonal forward passes and an extraordinarily high accuracy, even in the opponent's half.\n",
    "\n",
    "The next deep dive is into John Stones' match against Newcastle."
   ]
  },
  {
   "cell_type": "code",
   "execution_count": null,
   "metadata": {},
   "outputs": [],
   "source": [
    "vis.plot_passes(\n",
    "    df_events,\n",
    "    df_players,\n",
    "    df_matches,\n",
    "    9380,\n",
    "    2499954,\n",
    "    'angleCategory'\n",
    ")"
   ]
  },
  {
   "cell_type": "markdown",
   "metadata": {},
   "source": [
    "Even though John Stones played as a center-back in his first seasons under Pep Guardiola, we can see that he was positioned exceptionally high up the pitch, reflecting Manchester City's tactical approach of controlling games through possession and territorial dominance. Opponents were frequently pinned in their own half, with City systematically recycling possession and methodically probing for openings.\n",
    "\n",
    "Let's now take a look at the comprehensive passing statistics for all three players across the entire season, beginning with Sergio Ramos."
   ]
  },
  {
   "cell_type": "code",
   "execution_count": null,
   "metadata": {},
   "outputs": [],
   "source": [
    "vis.plot_passing_stats(df_events, df_players, df_matches, 3306)"
   ]
  },
  {
   "cell_type": "markdown",
   "metadata": {},
   "source": [
    "As we saw earlier when comparing the top-tier-passers, Ramos has an outstanding forward rate, playing over 60% of his passes forward while still maintaining a high accuracy.\n",
    "\n",
    "Let's now have a look a Toni Kroos."
   ]
  },
  {
   "cell_type": "code",
   "execution_count": null,
   "metadata": {},
   "outputs": [],
   "source": [
    "vis.plot_passing_stats(df_events, df_players, df_matches, 14723)"
   ]
  },
  {
   "cell_type": "markdown",
   "metadata": {},
   "source": [
    "With nearly 2900 passes, Kroos played the most passes out of the three players. This makes his high forward rate and passing accuracy stand out even more, especially when consider that as a central midfielder, he is under significantly more opponent-pressure as he is playing higher up the pitch.\n",
    "\n",
    "We conclude the passing-analysis by looking at John Stones' stats."
   ]
  },
  {
   "cell_type": "code",
   "execution_count": null,
   "metadata": {},
   "outputs": [],
   "source": [
    "vis.plot_passing_stats(df_events, df_players, df_matches, 9380)"
   ]
  },
  {
   "cell_type": "markdown",
   "metadata": {},
   "source": [
    "Stones completed fewer passes than Ramos and Kroos while registering the highest proportion of horizontal passes among the three players. Nevertheless, his overall passing accuracy of nearly 97% is extraordinary."
   ]
  },
  {
   "cell_type": "markdown",
   "metadata": {},
   "source": [
    "## **Shot analysis** - Handling Outliers"
   ]
  },
  {
   "cell_type": "markdown",
   "metadata": {},
   "source": [
    "The objective of this section is to train a logistic regression model on all shots contained in df_events (including free-kick shots and penalties) to predict shot outcomes.\n",
    "To accomplish this, we first create a new dataframe containing only shot events."
   ]
  },
  {
   "cell_type": "code",
   "execution_count": null,
   "metadata": {},
   "outputs": [],
   "source": [
    "df_shots = df_events[df_events['eventName'] == 'Shot'].copy()\n",
    "df_freekicks = df_events[df_events['subEventName'] == 'Free kick shot'].copy()\n",
    "df_penalties = df_events[df_events['subEventName'] == 'Penalty'].copy()\n",
    "\n",
    "df_shots = pd.concat([df_shots, df_freekicks, df_penalties], axis=0)"
   ]
  },
  {
   "cell_type": "markdown",
   "metadata": {},
   "source": [
    "Before proceeding with the shot analysis, we identify and address outliers that could negatively impact the model's performance.\n",
    "\n",
    "Given the extremely small sample of shots taken by goalkeepers (only 7), we exclude these observations as they're not enough to derive meaningful statistical insights."
   ]
  },
  {
   "cell_type": "code",
   "execution_count": null,
   "metadata": {},
   "outputs": [],
   "source": [
    "goalkeeper_shots = df_shots[df_shots['playerRole'] == 'GKP']['subEventName']\n",
    "df_shots.drop(goalkeeper_shots.index, inplace=True)\n",
    "print(\n",
    "    f'{goalkeeper_shots.shape[0]} goalkeeper shots removed from dataset.'\n",
    ")"
   ]
  },
  {
   "cell_type": "markdown",
   "metadata": {},
   "source": [
    "As seen in below histogram, there are only very few shots taken from a distance greater than 40 meters."
   ]
  },
  {
   "cell_type": "code",
   "execution_count": null,
   "metadata": {},
   "outputs": [],
   "source": [
    "ax = sns.histplot(x=df_shots['goalDistanceStart'], bins=10)\n",
    "sns.despine(right=True, top=True)\n"
   ]
  },
  {
   "cell_type": "markdown",
   "metadata": {},
   "source": [
    "As those shots are only interesting when we know the goalkeeper's position (and as we also see below none of those shots is preceded by the event 'Goalkeeper leaving line' so we have no information about the goalkeeper's position)."
   ]
  },
  {
   "cell_type": "code",
   "execution_count": null,
   "metadata": {},
   "outputs": [],
   "source": [
    "max_distance_goalkeeper_out = df_shots[\n",
    "    df_shots['prevEventName'] == 'Goalkeeper leaving line'\n",
    "]['goalDistanceStart'].max()\n",
    "print(\n",
    "    f'Max shot distance with goalkeeper off line: '\n",
    "    f'{max_distance_goalkeeper_out:.2f} m'\n",
    ")"
   ]
  },
  {
   "cell_type": "markdown",
   "metadata": {},
   "source": [
    "So for a better general model-performance we will drop all of the shots taken from very far out (> 40m)."
   ]
  },
  {
   "cell_type": "code",
   "execution_count": null,
   "metadata": {},
   "outputs": [],
   "source": [
    "far_shots = df_shots[df_shots['goalDistanceStart'] > 40]\n",
    "df_shots.drop(\n",
    "    far_shots.index,\n",
    "    inplace=True\n",
    ")\n",
    "print(\n",
    "    f'{far_shots.shape[0]} far shots removed from dataset.'\n",
    ")"
   ]
  },
  {
   "cell_type": "markdown",
   "metadata": {},
   "source": [
    "As the goals wouldn't count even if the shot went in, we filter out shots from an offside-position."
   ]
  },
  {
   "cell_type": "code",
   "execution_count": null,
   "metadata": {},
   "outputs": [],
   "source": [
    "shots_after_offside = df_shots[\n",
    "    df_shots['prevEventName'] == 'Offside'\n",
    "]\n",
    "df_shots.drop(\n",
    "    shots_after_offside.index,\n",
    "    inplace=True\n",
    ")\n",
    "print(\n",
    "    f'{shots_after_offside.shape[0]} shots after offside removed from dataset.'\n",
    ")"
   ]
  },
  {
   "cell_type": "markdown",
   "metadata": {},
   "source": [
    "## **Shot analysis** - Single matches' shot-visualization"
   ]
  },
  {
   "cell_type": "markdown",
   "metadata": {},
   "source": [
    "To explore a single matches' shots, we can plot the position the shots were taken from and add some information about a specified feature."
   ]
  },
  {
   "cell_type": "code",
   "execution_count": null,
   "metadata": {},
   "outputs": [],
   "source": [
    "vis.plot_shots(\n",
    "    df_shots,\n",
    "    df_players,\n",
    "    df_teams,\n",
    "    df_matches,\n",
    "    'bodyPart',\n",
    "    True,\n",
    "    2516785,\n",
    "    2447,\n",
    "    25867\n",
    ")"
   ]
  },
  {
   "cell_type": "markdown",
   "metadata": {},
   "source": [
    "Looking at Pierre Aubameyang's performance against Borussia Mönchengladbach, we can see that he scored 3 out of his 4 shots taken with his strong foot, while his attempts with his weak foot and headers failed to find the target. The shots were all taken from inside the box. Notably, all shots were taken from positions within the penalty area, suggesting his positioning and movement were excellent."
   ]
  },
  {
   "cell_type": "markdown",
   "metadata": {},
   "source": [
    "## **Shot analysis** - Goal-probability regarding distance, angle and body part"
   ]
  },
  {
   "cell_type": "markdown",
   "metadata": {},
   "source": [
    "To see how the body-part a shot is taken with affects the goal-probability, let's first visualize each of the feature's correlation to a shot's outcome."
   ]
  },
  {
   "cell_type": "code",
   "execution_count": null,
   "metadata": {},
   "outputs": [],
   "source": [
    "vis.feature_goal_corr_bars(df_shots, 'bodyPart', 5, False)"
   ]
  },
  {
   "cell_type": "markdown",
   "metadata": {},
   "source": [
    "Counterintuitively, the initial analysis reveals that shots taken with the strong foot exhibit the lowest conversion probability, while head/body shots have the highest goal rate. However, examining the number of shots taken puts this into perspective: Strong foot attempts make out more than double the number of all other body parts combined, suggesting a potential selection bias in shot opportunity quality.\n",
    "\n",
    "Another important factor could be that headers and weak foot shots may be predominantly taken from more advantageous positions — specifically closer distances and superior angles to goal.\n",
    "\n",
    "Let's first see how distance and angle to goal affect goal-probability before investigating the shots' body-part distribution regarding distance and angle."
   ]
  },
  {
   "cell_type": "code",
   "execution_count": null,
   "metadata": {},
   "outputs": [],
   "source": [
    "vis.feature_goal_corr_bars(df_shots, 'goalDistanceStart', 4, False)"
   ]
  },
  {
   "cell_type": "markdown",
   "metadata": {},
   "source": [
    "Excluding shots from extreme distances (>80m) due to their limited sample size and potential data quality issues, we , we can clearly see that goal-rate decrease with increasing distance.\n",
    "\n",
    "In addition to distance, shooting angle represents a critical factor in shot outcome analysis."
   ]
  },
  {
   "cell_type": "code",
   "execution_count": null,
   "metadata": {},
   "outputs": [],
   "source": [
    "vis.feature_goal_corr_bars(df_shots, 'shotWindow', 8, False)"
   ]
  },
  {
   "cell_type": "markdown",
   "metadata": {},
   "source": [
    "The analysis reveals that goal conversion rates have a positive correlation with shot-window-angle, indicating that superior shooting angles yield higher scoring probabilities.\n",
    "\n",
    "Regarding these insights, let's inspect the bodyparts' shots' distance- and angle-distribution."
   ]
  },
  {
   "cell_type": "code",
   "execution_count": null,
   "metadata": {},
   "outputs": [],
   "source": [
    "vis.category_heatmap(df_shots, 'goalDistanceStart', 'bodyPart', 4, 3)"
   ]
  },
  {
   "cell_type": "code",
   "execution_count": null,
   "metadata": {},
   "outputs": [],
   "source": [
    "vis.category_heatmap(df_shots, 'shotWindow', 'bodyPart', 8, 3)"
   ]
  },
  {
   "cell_type": "markdown",
   "metadata": {},
   "source": [
    "As assumed, the distances and angles shots are taken from are very different for each bodypart.\n",
    "\n",
    "About 15% of the shots are headers/bodyshots, two in three of them were taken from a very close distance of less than 10m.\n",
    "Looking at the shot-windows, about 9 in 10 headers/bodyshots had a good shot-windos of more than 22.5 degrees\n",
    "\n",
    "A little more shots in total are taken with the weak foot, half of them from closer than 20m from the goal, the rest from a range between 20m and 30m. Almost three in five shots taken with the weak foot had a narrow shot-window of less than 15 degrees.\n",
    "\n",
    "With about 66% in total, the biggest share of shots are taken with the strong foot, almost half of them from a from a distance of more than 20m. Still around 5% of all shots are taken with the strong foot from more than 30m of distance to the goal. The shot's angles resemble the angles of weak-foot-shots with almost 3 out of 4 shots were taken from a bad angle, having a narrow shot-window of less than 22.5 degrees.\n",
    "\n",
    "With this information, the bodyparts' goal-ratios don't seem that suprising anymore as the strong-foot-shots are mostly taken from worse distances and angles. So let's compare the bodyparts-goal-rates separately in each of the distance-/angle-categories."
   ]
  },
  {
   "cell_type": "code",
   "execution_count": null,
   "metadata": {},
   "outputs": [],
   "source": [
    "vis.two_features_goal_corr_bars(\n",
    "    df_shots,\n",
    "    'goalDistanceStart',\n",
    "    'bodyPart',\n",
    "    4,\n",
    "    3,\n",
    "    False\n",
    ")"
   ]
  },
  {
   "cell_type": "markdown",
   "metadata": {},
   "source": [
    "The strong foot has the (shared) highest goal-rate in each of the distance-categories (disregarding range from 20m to 30m where headers have a higher goal-rate due to the very small sample size)."
   ]
  },
  {
   "cell_type": "code",
   "execution_count": null,
   "metadata": {},
   "outputs": [],
   "source": [
    "vis.two_features_goal_corr_bars(\n",
    "    df_shots,\n",
    "    'shotWindow',\n",
    "    'bodyPart',\n",
    "    8,\n",
    "    3,\n",
    "    False\n",
    ")"
   ]
  },
  {
   "cell_type": "markdown",
   "metadata": {},
   "source": [
    "\n",
    "Strong foot shots achieve the (shared) highest conversion rates in 6 of the 8 shot-window categories examined.\n",
    "\n",
    "**Conclusion**: At first glance, the overall goal rates surpisingly suggested that the probability of scoring a goal with the head/body or the weak foot were higher than with the strong foot. However, diving deeper and analysing the shots' distance- and angle-distribution showed that this was due to the fact that strong-foot-shots tended to be taken from a higher distance and a worse angle than those with the weak foot or head/body. Eliminating this factor and comparing the bodyparts' goal-rates in each separate distance-/angle-category, we can conclude that the strong foot has the highest specific goal-rate, followed by the weak foot shots and headers/bodyshots."
   ]
  },
  {
   "cell_type": "markdown",
   "metadata": {},
   "source": [
    "## **Prediction of Outcome** - xGoal-classification with Logistic Regression"
   ]
  },
  {
   "cell_type": "markdown",
   "metadata": {},
   "source": [
    "Let's go ahead and create an xGoal-model. We will train and test the model using all of the leagues except the Bundesliga and then apply it on the Bundesliga to do some analysis using the xGoals.\n",
    "\n",
    "First of all we define the relevant features we will use for the regression according to our previous analysis."
   ]
  },
  {
   "cell_type": "code",
   "execution_count": null,
   "metadata": {},
   "outputs": [],
   "source": [
    "relevant_cols_dict = {\n",
    "    'numerical': ['goalDistanceStart', 'shotWindow'],\n",
    "    'boolean': [\n",
    "        'prevDangerousBallLost', 'counterAttack',\n",
    "        'prevThrough', 'prevHigh'\n",
    "    ],\n",
    "    'categorical': [\n",
    "        'subEventName', 'bodyPart', 'prevEventName',\n",
    "        'playerRole', 'competition'\n",
    "    ]\n",
    "}\n",
    "\n",
    "relevant_cols = (\n",
    "    relevant_cols_dict['numerical'] +\n",
    "    relevant_cols_dict['boolean'] +\n",
    "    relevant_cols_dict['categorical']\n",
    ")\n",
    "\n",
    "X = df_shots.loc[:, relevant_cols].copy()\n",
    "\n",
    "y = df_shots['goal'].copy()"
   ]
  },
  {
   "cell_type": "markdown",
   "metadata": {},
   "source": [
    "We seperate the bundesliga-data from the rest so we can later apply the trained model on it."
   ]
  },
  {
   "cell_type": "code",
   "execution_count": null,
   "metadata": {},
   "outputs": [],
   "source": [
    "df_bundesliga = df_shots[\n",
    "    df_shots['competition'] == 'germany'\n",
    "].copy()\n",
    "\n",
    "X.drop(df_bundesliga.index, inplace=True)\n",
    "y.drop(df_bundesliga.index, inplace=True)\n",
    "\n",
    "X.drop(columns=['competition'], inplace=True)\n",
    "relevant_cols_dict['categorical'].remove('competition')\n",
    "df_bundesliga.drop(columns=['competition'], inplace=True)"
   ]
  },
  {
   "cell_type": "markdown",
   "metadata": {},
   "source": [
    "We encode the categorical features using one-hot encoding."
   ]
  },
  {
   "cell_type": "code",
   "execution_count": null,
   "metadata": {},
   "outputs": [],
   "source": [
    "ct = ColumnTransformer(\n",
    "    transformers=[\n",
    "        ('', OneHotEncoder(drop='first'), relevant_cols_dict['categorical'])\n",
    "    ],\n",
    "    remainder='passthrough'\n",
    ")\n",
    "X = ct.fit_transform(X)\n",
    "\n",
    "columns_transformed = ct.get_feature_names_out()\n",
    "\n",
    "X = pd.DataFrame(X, columns=columns_transformed)"
   ]
  },
  {
   "cell_type": "markdown",
   "metadata": {},
   "source": [
    "Perform a gridsearch to find the best hyperparameters (may outcomment the big grid to save time)"
   ]
  },
  {
   "cell_type": "code",
   "execution_count": null,
   "metadata": {},
   "outputs": [],
   "source": [
    "model = LogisticRegression(random_state=42)\n",
    "\n",
    "'''param_grid = {\n",
    "    'C': np.logspace(-4, 4, 10),\n",
    "    'class_weight': ['balanced', None],\n",
    "    'max_iter': [250, 500, 750],\n",
    "    'penalty': ['l1', 'l2', None],\n",
    "    'solver': ['liblinear', 'newton-cholesky', 'saga']\n",
    "}'''\n",
    "\n",
    "# Fix the best performing hyperparameters to save computation time\n",
    "param_grid = {\n",
    "    'C': [2.782559402207126],\n",
    "    'class_weight': ['balanced'],\n",
    "    'max_iter': [750],\n",
    "    'penalty': ['l2'],\n",
    "    'solver': ['saga']\n",
    "}\n",
    "\n",
    "grid_search = GridSearchCV(\n",
    "    estimator=model,\n",
    "    param_grid=param_grid,\n",
    "    cv=5,\n",
    "    scoring='f1',\n",
    "    verbose=1,\n",
    "    n_jobs=-1\n",
    ")\n",
    "\n",
    "grid_search.fit(X, y)\n",
    "\n",
    "print('Best Hyperparameters:', grid_search.best_params_)\n",
    "print('Best f1-score:', grid_search.best_score_)"
   ]
  },
  {
   "cell_type": "markdown",
   "metadata": {},
   "source": [
    "Let's take a look at the fitted models' coefficients to better understand what features are important when predicting a shot's outcome"
   ]
  },
  {
   "cell_type": "code",
   "execution_count": null,
   "metadata": {},
   "outputs": [],
   "source": [
    "best_model = grid_search.best_estimator_\n",
    "best_model.fit(X, y)\n",
    "\n",
    "feature_importance = pd.DataFrame(\n",
    "    {'Feature': X.columns, 'Coefficient': best_model.coef_[0]}\n",
    ")\n",
    "\n",
    "feature_importance['Abs_Coefficient'] = feature_importance['Coefficient'].abs()\n",
    "feature_importance = feature_importance.sort_values(\n",
    "    by='Abs_Coefficient',\n",
    "    ascending=False\n",
    ")\n",
    "\n",
    "feature_importance[['Feature', 'Coefficient']]"
   ]
  },
  {
   "cell_type": "markdown",
   "metadata": {},
   "source": [
    "Apart from the obvious fact that penalties have a higher goal-probability than other shots, the fitted model's coefficients show, that the type of event (such as the opponent losing the ball in a dangerous position or the goalkeeper saving a shot) preceding the shot has a big impact on it's outcome, followed by the bodypart it was taken with."
   ]
  },
  {
   "cell_type": "markdown",
   "metadata": {},
   "source": [
    "## **Prediction of Outcome** - Applying the model on the Bundesliga"
   ]
  },
  {
   "cell_type": "markdown",
   "metadata": {},
   "source": [
    "To analyse our traind model's performance, we apply it on the bundesliga-data."
   ]
  },
  {
   "cell_type": "code",
   "execution_count": null,
   "metadata": {},
   "outputs": [],
   "source": [
    "df_bundesliga_transformed = ct.transform(df_bundesliga)\n",
    "df_bundesliga_transformed = pd.DataFrame(\n",
    "    df_bundesliga_transformed,\n",
    "    columns=columns_transformed\n",
    ")"
   ]
  },
  {
   "cell_type": "code",
   "execution_count": null,
   "metadata": {},
   "outputs": [],
   "source": [
    "y_test = df_shots[df_shots['competition'] == 'germany']['goal']\n",
    "y_pred = best_model.predict(df_bundesliga_transformed)\n",
    "y_pred_probability = best_model.predict_proba(df_bundesliga_transformed)[:, 1]\n",
    "\n",
    "print(f'F1 score: {f1_score(y_test, y_pred):.4f}')"
   ]
  },
  {
   "cell_type": "markdown",
   "metadata": {},
   "source": [
    "Let's take a look at the prediction-outcome's confusion-matrix. Besides the classes' sizes, let's also consider the xGoals-average (i.e. how 'sure' the model was of the predicted outcome)"
   ]
  },
  {
   "cell_type": "code",
   "execution_count": null,
   "metadata": {},
   "outputs": [],
   "source": [
    "def conf_matrix_avg_probability(\n",
    "    y_test: pd.Series,\n",
    "    y_pred: pd.Series,\n",
    "    y_pred_proba: pd.Series\n",
    ") -> None:\n",
    "    conf_matrix = confusion_matrix(y_test, y_pred)\n",
    "\n",
    "    df = pd.DataFrame({\n",
    "        'actual': y_test,\n",
    "        'predicted': y_pred,\n",
    "        'probability': y_pred_proba\n",
    "    })\n",
    "\n",
    "    df_TN = df[~df['actual'] & ~df['predicted']]\n",
    "    df_FP = df[~df['actual'] & df['predicted']]\n",
    "    df_FN = df[df['actual'] & ~df['predicted']]\n",
    "    df_TP = df[df['actual'] & df['predicted']]\n",
    "\n",
    "    xgoals_avg_annot = [\n",
    "        [\n",
    "            f' / avg xG: {df_TN['probability'].mean():.2f}',\n",
    "            f' / avg xG: {df_FP['probability'].mean():.2f}'\n",
    "        ],\n",
    "        [\n",
    "            f' / avg xG: {df_FN['probability'].mean():.2f}',\n",
    "            f' / avg xG: {df_TP['probability'].mean():.2f}'\n",
    "        ]\n",
    "    ]\n",
    "\n",
    "    conf_matrix_annot = np.char.add(\n",
    "        conf_matrix.astype(str),\n",
    "        xgoals_avg_annot\n",
    "    )\n",
    "\n",
    "    ax = sns.heatmap(\n",
    "        data=confusion_matrix(y_test, y_pred),\n",
    "        annot=conf_matrix_annot,\n",
    "        cbar=False,\n",
    "        cmap='coolwarm',\n",
    "        fmt='',\n",
    "        square=True\n",
    "    )\n",
    "\n",
    "    ax.set_xticklabels(['Predicted Negative', 'Predicted Positive'])\n",
    "    ax.set_yticklabels(['Actual Negative', 'Actual Positive'])\n",
    "    plt.title('Confusion matrix with average xG')\n",
    "    return None"
   ]
  },
  {
   "cell_type": "code",
   "execution_count": null,
   "metadata": {},
   "outputs": [],
   "source": [
    "conf_matrix_avg_probability(y_test, y_pred, y_pred_probability)"
   ]
  },
  {
   "cell_type": "markdown",
   "metadata": {},
   "source": [
    "As we can see, the model on average was close to predict the false negatives correctly as positives and the false positives correctly as negatives.\n",
    "\n",
    "Let's investigate on what the table would have looked like at the end of the season following the xgoals."
   ]
  },
  {
   "cell_type": "code",
   "execution_count": null,
   "metadata": {},
   "outputs": [],
   "source": [
    "df_matches_bundesliga = df_matches[\n",
    "    df_matches['competition'] == 'germany'\n",
    "].copy()\n",
    "\n",
    "df_bundesliga['xG'] = y_pred_probability\n",
    "xg_per_match = df_bundesliga.groupby(\n",
    "    ['matchId', 'teamId']\n",
    ")['xG'].sum()"
   ]
  },
  {
   "cell_type": "markdown",
   "metadata": {},
   "source": [
    "First we have to compare each matches' xgoals to get the xWinner. We consider a xdraw-tolerance, meaning that xg-differences below a specified tolerance count as a draw."
   ]
  },
  {
   "cell_type": "code",
   "execution_count": null,
   "metadata": {},
   "outputs": [],
   "source": [
    "xg_max = xg_per_match.groupby('matchId').max()\n",
    "xg_min = xg_per_match.groupby('matchId').min()\n",
    "xg_diff = xg_max - xg_min\n",
    "\n",
    "x_winner = xg_per_match.groupby('matchId').idxmax().apply(lambda x: x[1])\n",
    "x_winner = x_winner[xg_diff >= co.XDRAW_TOLERANCE]\n",
    "\n",
    "df_matches_bundesliga['xWinner'] = (\n",
    "    df_matches_bundesliga.index.to_series().apply(\n",
    "        lambda x: x_winner[x] if x in x_winner else 0\n",
    "    )\n",
    ")"
   ]
  },
  {
   "cell_type": "markdown",
   "metadata": {},
   "source": [
    "We now count the xwinners and xdraws to calculate each team's xpoints."
   ]
  },
  {
   "cell_type": "code",
   "execution_count": null,
   "metadata": {},
   "outputs": [],
   "source": [
    "df_xwins = df_matches_bundesliga[\n",
    "    df_matches_bundesliga['xWinner'] != 0\n",
    "].copy()\n",
    "xwin_points = df_xwins['xWinner'].value_counts() * 3"
   ]
  },
  {
   "cell_type": "code",
   "execution_count": null,
   "metadata": {},
   "outputs": [],
   "source": [
    "df_xdraws = df_matches_bundesliga[df_matches_bundesliga['xWinner'] == 0].copy()\n",
    "df_xdraws['teamIds'] = df_xdraws['teamsData'].apply(\n",
    "    lambda data: list(data.keys())\n",
    ")\n",
    "df_xdraws = df_xdraws.explode('teamIds')\n",
    "xdraw_points = df_xdraws['teamIds'].astype(int).value_counts()"
   ]
  },
  {
   "cell_type": "markdown",
   "metadata": {},
   "source": [
    "Additionally we count the total scored/conceded xGoals per team."
   ]
  },
  {
   "cell_type": "code",
   "execution_count": null,
   "metadata": {},
   "outputs": [],
   "source": [
    "def xgoals_conceded(teamId: int) -> float:\n",
    "    matches = df_bundesliga[\n",
    "        df_bundesliga['teamId'] == teamId\n",
    "    ]['matchId'].unique()\n",
    "    df_matches_events = df_bundesliga[\n",
    "        df_bundesliga['matchId'].isin(matches)\n",
    "    ]\n",
    "    df_opponent_events = df_matches_events[\n",
    "        df_matches_events['teamId'] != teamId\n",
    "    ]\n",
    "    return df_opponent_events['xG'].sum().round(2)"
   ]
  },
  {
   "cell_type": "code",
   "execution_count": null,
   "metadata": {},
   "outputs": [],
   "source": [
    "total_xgoals = df_bundesliga.groupby('teamId')['xG'].sum().round(2)\n",
    "total_xgoals_conceded = {\n",
    "    teamId: xgoals_conceded(teamId)\n",
    "    for teamId in df_bundesliga['teamId'].unique()\n",
    "}"
   ]
  },
  {
   "cell_type": "markdown",
   "metadata": {},
   "source": [
    "We calculate each team's actual points using the information about the matches' outcomes from the real data."
   ]
  },
  {
   "cell_type": "code",
   "execution_count": null,
   "metadata": {},
   "outputs": [],
   "source": [
    "df_wins = df_matches_bundesliga[df_matches_bundesliga['winner'] != 0].copy()\n",
    "win_points = df_wins['winner'].value_counts() * 3"
   ]
  },
  {
   "cell_type": "code",
   "execution_count": null,
   "metadata": {},
   "outputs": [],
   "source": [
    "df_draws = df_matches_bundesliga[df_matches_bundesliga['winner'] == 0].copy()\n",
    "df_draws['teamIds'] = df_draws['teamsData'].apply(\n",
    "    lambda data: list(data.keys())\n",
    ")\n",
    "df_draws = df_draws.explode('teamIds')\n",
    "draw_points = df_draws['teamIds'].astype(int).value_counts()"
   ]
  },
  {
   "cell_type": "markdown",
   "metadata": {},
   "source": [
    "To complete the data we need for our final table, we count each team's actual scored and conceded goals."
   ]
  },
  {
   "cell_type": "code",
   "execution_count": null,
   "metadata": {},
   "outputs": [],
   "source": [
    "def goals_scored(teamId: int) -> int:\n",
    "    matches = df_bundesliga[\n",
    "        df_bundesliga['teamId'] == teamId\n",
    "    ]['matchId'].unique()\n",
    "    goals = [\n",
    "        df_matches_bundesliga.loc[match, 'teamsData'][str(teamId)]['score']\n",
    "        for match in matches\n",
    "    ]\n",
    "    return sum(goals)"
   ]
  },
  {
   "cell_type": "code",
   "execution_count": null,
   "metadata": {},
   "outputs": [],
   "source": [
    "def goals_conceded(teamId: int) -> int:\n",
    "    matches = df_bundesliga[\n",
    "        df_bundesliga['teamId'] == teamId\n",
    "    ]['matchId'].unique()\n",
    "    goals_conceded = [\n",
    "        df_matches_bundesliga.loc[match, 'teamsData'][\n",
    "            ut.get_other_value(\n",
    "                list(df_matches_bundesliga.loc[match, 'teamsData'].keys()),\n",
    "                str(teamId)\n",
    "            )\n",
    "        ]['score']\n",
    "        for match in matches\n",
    "    ]\n",
    "    return sum(goals_conceded)"
   ]
  },
  {
   "cell_type": "code",
   "execution_count": null,
   "metadata": {},
   "outputs": [],
   "source": [
    "total_goals = {\n",
    "    teamId: goals_scored(teamId)\n",
    "    for teamId in df_bundesliga['teamId'].unique()\n",
    "}\n",
    "total_goals_conceded = {\n",
    "    teamId: goals_conceded(teamId)\n",
    "    for teamId in df_bundesliga['teamId'].unique()\n",
    "}"
   ]
  },
  {
   "cell_type": "markdown",
   "metadata": {},
   "source": [
    "We now have all the information available and can start assembling our final table by putting together the actual data"
   ]
  },
  {
   "cell_type": "code",
   "execution_count": null,
   "metadata": {},
   "outputs": [],
   "source": [
    "table = pd.DataFrame({'teamId': df_bundesliga['teamId'].unique()})\n",
    "table['name'] = table['teamId'].apply(lambda id: df_teams.loc[id, 'name'])\n",
    "table['points'] = table['teamId'].apply(\n",
    "    lambda id: win_points.get(id, 0) + draw_points.get(id, 0)\n",
    ")\n",
    "table['goals'] = table['teamId'].apply(lambda id: total_goals.get(id, 0))\n",
    "table['goalsConceded'] = table['teamId'].apply(\n",
    "    lambda id: total_goals_conceded.get(id, 0)\n",
    ")\n",
    "table['goalDiff'] = table['goals'] - table['goalsConceded']\n"
   ]
  },
  {
   "cell_type": "markdown",
   "metadata": {},
   "source": [
    "To compare the actual with the expected outcome, we add the expected data."
   ]
  },
  {
   "cell_type": "code",
   "execution_count": null,
   "metadata": {},
   "outputs": [],
   "source": [
    "table['xPoints'] = table['teamId'].apply(\n",
    "    lambda id: xwin_points.get(id, 0) + xdraw_points.get(id, 0)\n",
    ")\n",
    "table['xG'] = table['teamId'].apply(lambda id: total_xgoals.get(id, 0))\n",
    "table['xGConceded'] = table['teamId'].apply(\n",
    "    lambda id: total_xgoals_conceded.get(id, 0)\n",
    ")\n",
    "table['xGDiff'] = table['xG'] - table['xGConceded']\n",
    "table['points_diff'] = table['points'] - table['xPoints']\n",
    "table.set_index('teamId', inplace=True)"
   ]
  },
  {
   "cell_type": "markdown",
   "metadata": {},
   "source": [
    "We sort the teams in the leagute table by deducting their rank and xRank from points/xPoints."
   ]
  },
  {
   "cell_type": "code",
   "execution_count": null,
   "metadata": {},
   "outputs": [],
   "source": [
    "for col, diff in [('points', 'goalDiff'), ('xPoints', 'xGDiff')]:\n",
    "    table_sorted = table.sort_values(diff, ascending=False)\n",
    "    table[f'{col}_rank'] = table_sorted[col].rank(\n",
    "        ascending=False,\n",
    "        method='first'\n",
    "    ).astype(int)\n",
    "table['rank_diff'] = table['xPoints_rank'] - table['points_rank']\n",
    "\n",
    "table.sort_values(by='points_rank', ascending=True, inplace=True)\n",
    "general_cols = ['name', 'points_diff', 'rank_diff']\n",
    "actual_cols = ['points_rank', 'points', 'goals', 'goalsConceded', 'goalDiff']\n",
    "expected_cols = ['xPoints_rank', 'xPoints', 'xG', 'xGConceded', 'xGDiff']\n",
    "table[general_cols + actual_cols + expected_cols]"
   ]
  },
  {
   "cell_type": "markdown",
   "metadata": {},
   "source": [
    "Let's visualize the actual/expected table's comparison to see which teams over-/underperformed."
   ]
  },
  {
   "cell_type": "code",
   "execution_count": null,
   "metadata": {},
   "outputs": [],
   "source": [
    "plt.plot(\n",
    "    [-1, 19],\n",
    "    [-1, 19],\n",
    "    'k--',\n",
    "    alpha=0.25\n",
    ")\n",
    "plt.grid(True, alpha=0.3)\n",
    "\n",
    "scatter = plt.scatter(\n",
    "    table['xPoints_rank'],\n",
    "    table['points_rank'],\n",
    "    c=table['points_diff'],\n",
    "    cmap='RdYlGn',\n",
    "    s=100,\n",
    "    edgecolors='black',\n",
    "    linewidths=1,\n",
    "    zorder=5\n",
    ")\n",
    "\n",
    "for idx, row in table.iterrows():\n",
    "    plt.annotate(\n",
    "        row['name'],\n",
    "        (row['xPoints_rank'], row['points_rank']),\n",
    "        xytext=(7, 0),\n",
    "        textcoords='offset points',\n",
    "        fontsize=8,\n",
    "        ha='left',\n",
    "        zorder=6\n",
    "    )\n",
    "\n",
    "plt.colorbar(\n",
    "    scatter,\n",
    "    label='Points Difference (xPoints - points)',\n",
    "    orientation='vertical',\n",
    "    shrink=0.6\n",
    ")\n",
    "plt.xlabel('xPoints rank')\n",
    "plt.ylabel('points rank')\n",
    "plt.xlim(0, 19)\n",
    "plt.ylim(0, 19)\n",
    "plt.xticks(range(1, 19))\n",
    "plt.yticks(range(1, 19))\n",
    "plt.gca().invert_yaxis()\n",
    "plt.show()"
   ]
  },
  {
   "cell_type": "markdown",
   "metadata": {},
   "source": [
    "**Key Insights**\n",
    "- Bayern Munich demonstrated league dominance, maintaining the top position in both expected and actual performance metrics\n",
    "- Upper table dynamics: Borussia Dortmund and Bayer Leverkusen underperformed relative to their expected outcomes, being surpassed by TSG Hoffenheim and FC Schalke 04, who both significantly exceeded their projected performance levels\n",
    "- Lower table analysis: Hertha BSC Berlin outperformed their expected league position, successfully avoiding relegation through superior conversion of scoring opportunities"
   ]
  }
 ],
 "metadata": {
  "kernelspec": {
   "display_name": "base",
   "language": "python",
   "name": "python3"
  },
  "language_info": {
   "codemirror_mode": {
    "name": "ipython",
    "version": 3
   },
   "file_extension": ".py",
   "mimetype": "text/x-python",
   "name": "python",
   "nbconvert_exporter": "python",
   "pygments_lexer": "ipython3",
   "version": "3.12.4"
  }
 },
 "nbformat": 4,
 "nbformat_minor": 2
}
